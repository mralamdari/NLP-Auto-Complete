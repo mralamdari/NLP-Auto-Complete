{
  "nbformat": 4,
  "nbformat_minor": 0,
  "metadata": {
    "colab": {
      "name": "NLP-Auto-Complete-Beginner.ipynb",
      "provenance": [],
      "collapsed_sections": [],
      "authorship_tag": "ABX9TyPtdQMgjELfKeBKzi7VMAhu",
      "include_colab_link": true
    },
    "kernelspec": {
      "name": "python3",
      "display_name": "Python 3"
    },
    "language_info": {
      "name": "python"
    }
  },
  "cells": [
    {
      "cell_type": "markdown",
      "metadata": {
        "id": "view-in-github",
        "colab_type": "text"
      },
      "source": [
        "<a href=\"https://colab.research.google.com/github/mr-alamdari/NLP-Auto-Complete-Beginner/blob/main/NLP_Auto_Complete_Beginner.ipynb\" target=\"_parent\"><img src=\"https://colab.research.google.com/assets/colab-badge.svg\" alt=\"Open In Colab\"/></a>"
      ]
    },
    {
      "cell_type": "code",
      "execution_count": 1,
      "metadata": {
        "id": "ENDB9Zw7jXXj",
        "colab": {
          "base_uri": "https://localhost:8080/"
        },
        "outputId": "50ff92d9-acea-4398-d892-63964ceecd64"
      },
      "outputs": [
        {
          "output_type": "stream",
          "name": "stdout",
          "text": [
            "[nltk_data] Downloading package punkt to /root/nltk_data...\n",
            "[nltk_data]   Package punkt is already up-to-date!\n"
          ]
        },
        {
          "output_type": "execute_result",
          "data": {
            "text/plain": [
              "True"
            ]
          },
          "metadata": {},
          "execution_count": 1
        }
      ],
      "source": [
        "import os\n",
        "import re\n",
        "import nltk\n",
        "import numpy as np\n",
        "import pandas as pd\n",
        "nltk.download('punkt')"
      ]
    },
    {
      "cell_type": "code",
      "source": [
        "!pip install -q -U trax\n",
        "\n",
        "import trax\n",
        "\n",
        "# import trax.fastmath.numpy as np\n",
        "\n",
        "from trax import layers as tl"
      ],
      "metadata": {
        "id": "wlB_5UqLk78I"
      },
      "execution_count": 2,
      "outputs": []
    },
    {
      "cell_type": "code",
      "source": [
        "!wget https://raw.githubusercontent.com/amanjeetsahu/Natural-Language-Processing-Specialization/master/Natural%20Language%20Processing%20with%20Probabilistic%20Models/Week%203/en_US.twitter.txt"
      ],
      "metadata": {
        "colab": {
          "base_uri": "https://localhost:8080/"
        },
        "id": "u8a_B5GekswL",
        "outputId": "6ddb3514-53c6-4cd5-9a62-0cab27a67c7a"
      },
      "execution_count": 3,
      "outputs": [
        {
          "output_type": "stream",
          "name": "stdout",
          "text": [
            "--2022-04-20 08:09:18--  https://raw.githubusercontent.com/amanjeetsahu/Natural-Language-Processing-Specialization/master/Natural%20Language%20Processing%20with%20Probabilistic%20Models/Week%203/en_US.twitter.txt\n",
            "Resolving raw.githubusercontent.com (raw.githubusercontent.com)... 185.199.109.133, 185.199.110.133, 185.199.108.133, ...\n",
            "Connecting to raw.githubusercontent.com (raw.githubusercontent.com)|185.199.109.133|:443... connected.\n",
            "HTTP request sent, awaiting response... 200 OK\n",
            "Length: 3341555 (3.2M) [text/plain]\n",
            "Saving to: ‘en_US.twitter.txt.3’\n",
            "\n",
            "en_US.twitter.txt.3 100%[===================>]   3.19M  --.-KB/s    in 0.07s   \n",
            "\n",
            "2022-04-20 08:09:18 (47.6 MB/s) - ‘en_US.twitter.txt.3’ saved [3341555/3341555]\n",
            "\n"
          ]
        }
      ]
    },
    {
      "cell_type": "code",
      "source": [
        "with open('en_US.twitter.txt', 'r') as f:\n",
        "  data = f.read()"
      ],
      "metadata": {
        "id": "htKmLHwTlH0p"
      },
      "execution_count": 4,
      "outputs": []
    },
    {
      "cell_type": "code",
      "source": [
        "print(len(data), type(data))"
      ],
      "metadata": {
        "colab": {
          "base_uri": "https://localhost:8080/"
        },
        "id": "1E_qzSoMlfv6",
        "outputId": "08dc5351-a81c-4d57-e05f-736cb756556d"
      },
      "execution_count": 5,
      "outputs": [
        {
          "output_type": "stream",
          "name": "stdout",
          "text": [
            "3335477 <class 'str'>\n"
          ]
        }
      ]
    },
    {
      "cell_type": "code",
      "source": [
        "display(data[0:400])"
      ],
      "metadata": {
        "colab": {
          "base_uri": "https://localhost:8080/",
          "height": 105
        },
        "id": "3x1JiEiklQwC",
        "outputId": "5006ce63-3ba9-4438-c59d-0f0aa49bc4b5"
      },
      "execution_count": 6,
      "outputs": [
        {
          "output_type": "display_data",
          "data": {
            "text/plain": [
              "\"How are you? Btw thanks for the RT. You gonna be in DC anytime soon? Love to see you. Been way, way too long.\\nWhen you meet someone special... you'll know. Your heart will beat more rapidly and you'll smile for no reason.\\nthey've decided its more fun if I don't.\\nSo Tired D; Played Lazer Tag & Ran A LOT D; Ughh Going To Sleep Like In 5 Minutes ;)\\nWords from a complete stranger! Made my birthday eve\""
            ],
            "application/vnd.google.colaboratory.intrinsic+json": {
              "type": "string"
            }
          },
          "metadata": {}
        }
      ]
    },
    {
      "cell_type": "code",
      "source": [
        "display(data[-400:])"
      ],
      "metadata": {
        "colab": {
          "base_uri": "https://localhost:8080/",
          "height": 105
        },
        "id": "pijZ4lAmlXhk",
        "outputId": "33fc942f-e031-4428-c097-791bf0cffe9a"
      },
      "execution_count": 7,
      "outputs": [
        {
          "output_type": "display_data",
          "data": {
            "text/plain": [
              "\"tplace jerks off aristocrats until they finally die in the midst of self-love.\\n's icon is life.\\nwe just had one a few weeks back....hopefully we will be back soon! wish you the best yo\\nColombia is with an 'o'...“: We now ship to 4 countries in South America (fist pump). Please welcome Columbia to the Stunner Family”\\n#GutsiestMovesYouCanMake Giving a cat a bath.\\nCoffee after 5 was a TERRIBLE idea.\\n\""
            ],
            "application/vnd.google.colaboratory.intrinsic+json": {
              "type": "string"
            }
          },
          "metadata": {}
        }
      ]
    },
    {
      "cell_type": "code",
      "source": [
        "def split2Sentences(data):\n",
        "  \n",
        "  sentences = data.split('\\n')\n",
        "  sentences = [s.strip() for s in sentences]\n",
        "  sentences = [s for s in sentences if len(s)>0]\n",
        "  return sentences"
      ],
      "metadata": {
        "id": "IrNi900Slcpd"
      },
      "execution_count": 8,
      "outputs": []
    },
    {
      "cell_type": "code",
      "source": [
        "sentences = split2Sentences(data)\n",
        "sentences[0:10]"
      ],
      "metadata": {
        "colab": {
          "base_uri": "https://localhost:8080/"
        },
        "id": "E8xNBFkFmLwf",
        "outputId": "25bf54f5-0438-460b-edef-090d8fa2d9fc"
      },
      "execution_count": 9,
      "outputs": [
        {
          "output_type": "execute_result",
          "data": {
            "text/plain": [
              "['How are you? Btw thanks for the RT. You gonna be in DC anytime soon? Love to see you. Been way, way too long.',\n",
              " \"When you meet someone special... you'll know. Your heart will beat more rapidly and you'll smile for no reason.\",\n",
              " \"they've decided its more fun if I don't.\",\n",
              " 'So Tired D; Played Lazer Tag & Ran A LOT D; Ughh Going To Sleep Like In 5 Minutes ;)',\n",
              " 'Words from a complete stranger! Made my birthday even better :)',\n",
              " 'First Cubs game ever! Wrigley field is gorgeous. This is perfect. Go Cubs Go!',\n",
              " 'i no! i get another day off from skool due to the wonderful snow (: and THIS wakes me up...damn thing',\n",
              " \"I'm coo... Jus at work hella tired r u ever in cali\",\n",
              " 'The new sundrop commercial ...hehe love at first sight',\n",
              " 'we need to reconnect THIS WEEK']"
            ]
          },
          "metadata": {},
          "execution_count": 9
        }
      ]
    },
    {
      "cell_type": "code",
      "source": [
        "nltk.word_tokenize(sentences[2])"
      ],
      "metadata": {
        "colab": {
          "base_uri": "https://localhost:8080/"
        },
        "id": "yRr3KCGGnhQL",
        "outputId": "c5c24bb6-9e49-417e-f22e-d12caae1ee06"
      },
      "execution_count": 10,
      "outputs": [
        {
          "output_type": "execute_result",
          "data": {
            "text/plain": [
              "['they', \"'ve\", 'decided', 'its', 'more', 'fun', 'if', 'I', 'do', \"n't\", '.']"
            ]
          },
          "metadata": {},
          "execution_count": 10
        }
      ]
    },
    {
      "cell_type": "code",
      "source": [
        "tokenize_sentences =lambda sentences: [nltk.word_tokenize(s.lower()) for s in sentences]"
      ],
      "metadata": {
        "id": "DCAGpCmfmUog"
      },
      "execution_count": 11,
      "outputs": []
    },
    {
      "cell_type": "code",
      "source": [
        "tokenized_sentences = tokenize_sentences(sentences)"
      ],
      "metadata": {
        "id": "uPiGr44inmVZ"
      },
      "execution_count": 12,
      "outputs": []
    },
    {
      "cell_type": "code",
      "source": [
        "tokenized_sentences[0]"
      ],
      "metadata": {
        "colab": {
          "base_uri": "https://localhost:8080/"
        },
        "id": "mSo0vmOb8hpF",
        "outputId": "9e783cab-24a4-4536-ef31-1f8efc3505f5"
      },
      "execution_count": 13,
      "outputs": [
        {
          "output_type": "execute_result",
          "data": {
            "text/plain": [
              "['how',\n",
              " 'are',\n",
              " 'you',\n",
              " '?',\n",
              " 'btw',\n",
              " 'thanks',\n",
              " 'for',\n",
              " 'the',\n",
              " 'rt',\n",
              " '.',\n",
              " 'you',\n",
              " 'gon',\n",
              " 'na',\n",
              " 'be',\n",
              " 'in',\n",
              " 'dc',\n",
              " 'anytime',\n",
              " 'soon',\n",
              " '?',\n",
              " 'love',\n",
              " 'to',\n",
              " 'see',\n",
              " 'you',\n",
              " '.',\n",
              " 'been',\n",
              " 'way',\n",
              " ',',\n",
              " 'way',\n",
              " 'too',\n",
              " 'long',\n",
              " '.']"
            ]
          },
          "metadata": {},
          "execution_count": 13
        }
      ]
    },
    {
      "cell_type": "code",
      "source": [
        "data_tokenizer = lambda data: tokenize_sentences(split2Sentences(data))"
      ],
      "metadata": {
        "id": "I4MZmx8JoQQd"
      },
      "execution_count": 14,
      "outputs": []
    },
    {
      "cell_type": "code",
      "source": [
        "tokenized_sentences = data_tokenizer(data)"
      ],
      "metadata": {
        "id": "0XPyCudFxOTA"
      },
      "execution_count": 15,
      "outputs": []
    },
    {
      "cell_type": "code",
      "source": [
        "np.random.shuffle(tokenized_sentences)\n",
        "train_size = int(len(tokenized_sentences)*0.8)\n",
        "train_data, test_data = tokenized_sentences[:train_size], tokenized_sentences[train_size:]"
      ],
      "metadata": {
        "id": "GkH6RpC1xPbC"
      },
      "execution_count": 16,
      "outputs": []
    },
    {
      "cell_type": "code",
      "source": [
        "print(len(train_data), len(test_data))"
      ],
      "metadata": {
        "colab": {
          "base_uri": "https://localhost:8080/"
        },
        "id": "O5asI24NxpOl",
        "outputId": "b058ccb0-57d6-4363-cb34-4bbd93a74484"
      },
      "execution_count": 17,
      "outputs": [
        {
          "output_type": "stream",
          "name": "stdout",
          "text": [
            "38368 9593\n"
          ]
        }
      ]
    },
    {
      "cell_type": "code",
      "source": [
        "def word_counter(tokenized_sentences):\n",
        "  word_dic = {}\n",
        "  for sentence in tokenized_sentences:\n",
        "    for token in sentence:\n",
        "      if token not in word_dic:\n",
        "        word_dic[token] = 1\n",
        "      else:\n",
        "        word_dic[token] += 1\n",
        "  return word_dic\n",
        "  # return collections.Counter(tokenized_sentences)"
      ],
      "metadata": {
        "id": "rf1wMIv3xq88"
      },
      "execution_count": 18,
      "outputs": []
    },
    {
      "cell_type": "code",
      "source": [
        "word_c = word_counter(tokenized_sentences)\n",
        "\n",
        "for i, w in enumerate(word_c):\n",
        "  if i == 20:\n",
        "    break\n",
        "\n",
        "  print(w)"
      ],
      "metadata": {
        "colab": {
          "base_uri": "https://localhost:8080/"
        },
        "id": "72STa6R7yo2l",
        "outputId": "38334520-11e9-4bd4-869f-3c1a8de940d9"
      },
      "execution_count": 19,
      "outputs": [
        {
          "output_type": "stream",
          "name": "stdout",
          "text": [
            "thank\n",
            "you\n",
            "for\n",
            "the\n",
            "best\n",
            "night\n",
            "ever\n",
            "with\n",
            "word\n",
            "is\n",
            "chris\n",
            "hardwick\n",
            "may\n",
            "be\n",
            "looking\n",
            "at\n",
            "a\n",
            "guest\n",
            "set\n",
            "tonight\n"
          ]
        }
      ]
    },
    {
      "cell_type": "code",
      "source": [
        "def words_with_nplus_frequncy(tokenize_sentences, count_threshold):\n",
        "  closed_vocab = []\n",
        "  word_count = word_counter(tokenized_sentences)\n",
        "  for k, v in word_count.items():\n",
        "    if v >= count_threshold:\n",
        "      closed_vocab.append(k)\n",
        "  return closed_vocab"
      ],
      "metadata": {
        "id": "U4O96FuUysCF"
      },
      "execution_count": 20,
      "outputs": []
    },
    {
      "cell_type": "code",
      "source": [
        "closed_vocab = words_with_nplus_frequncy(tokenized_sentences,2)"
      ],
      "metadata": {
        "id": "jS-dhelOywvy"
      },
      "execution_count": 21,
      "outputs": []
    },
    {
      "cell_type": "code",
      "source": [
        "closed_vocab[: 20]"
      ],
      "metadata": {
        "colab": {
          "base_uri": "https://localhost:8080/"
        },
        "id": "0TKo-pP10xMs",
        "outputId": "4910c6ec-c36a-471a-e56c-c8845ebcca06"
      },
      "execution_count": 22,
      "outputs": [
        {
          "output_type": "execute_result",
          "data": {
            "text/plain": [
              "['thank',\n",
              " 'you',\n",
              " 'for',\n",
              " 'the',\n",
              " 'best',\n",
              " 'night',\n",
              " 'ever',\n",
              " 'with',\n",
              " 'word',\n",
              " 'is',\n",
              " 'chris',\n",
              " 'may',\n",
              " 'be',\n",
              " 'looking',\n",
              " 'at',\n",
              " 'a',\n",
              " 'guest',\n",
              " 'set',\n",
              " 'tonight',\n",
              " 'and']"
            ]
          },
          "metadata": {},
          "execution_count": 22
        }
      ]
    },
    {
      "cell_type": "code",
      "source": [
        "def oov2Unk(tokenized_data, vocab, unknown_token='<unk>'):\n",
        "  vocab = set(vocab)\n",
        "\n",
        "  replaced_tokenized_sentences = []\n",
        "  for i, sentence in enumerate(tokenized_data):\n",
        "\n",
        "    replace_sentences = []\n",
        "    for token in sentence:\n",
        "\n",
        "      temp_token = token if token in vocab else unknown_token\n",
        "      replace_sentences.append(temp_token)\n",
        "    replaced_tokenized_sentences.append(replace_sentences)\n",
        "  return replaced_tokenized_sentences"
      ],
      "metadata": {
        "id": "utdnWExn1ZnC"
      },
      "execution_count": 64,
      "outputs": []
    },
    {
      "cell_type": "code",
      "source": [
        "def preprocess_data(train_data, test_data, count_threshol=2):\n",
        "  \n",
        "  vocab = words_with_nplus_frequncy(train_data, count_threshol)\n",
        "  train_data_replaced = oov2Unk(train_data, vocab)\n",
        "  test_data_replaced = oov2Unk(test_data, vocab)\n",
        "  return train_data_replaced, test_data_replaced, vocab"
      ],
      "metadata": {
        "id": "HPIU4FiZ7xa6"
      },
      "execution_count": 65,
      "outputs": []
    },
    {
      "cell_type": "code",
      "source": [
        "train_data_replaced, test_data_replaced, vocab = preprocess_data(train_data, test_data)"
      ],
      "metadata": {
        "id": "Zmq3O4i63wII"
      },
      "execution_count": 66,
      "outputs": []
    },
    {
      "cell_type": "code",
      "source": [
        "train_data_replaced[20]"
      ],
      "metadata": {
        "colab": {
          "base_uri": "https://localhost:8080/"
        },
        "id": "n7lekEL_EP1v",
        "outputId": "ceb7ac98-dbcc-42d7-b8c1-1029b614eaee"
      },
      "execution_count": 70,
      "outputs": [
        {
          "output_type": "execute_result",
          "data": {
            "text/plain": [
              "['been',\n",
              " 'reading',\n",
              " 'your',\n",
              " 'tweets',\n",
              " 'and',\n",
              " 'i',\n",
              " 'like',\n",
              " 'your',\n",
              " 'style',\n",
              " '.',\n",
              " 'thanks',\n",
              " 'for',\n",
              " 'being',\n",
              " 'one',\n",
              " 'of',\n",
              " 'the',\n",
              " 'only',\n",
              " 'followers',\n",
              " 'to',\n",
              " 'not',\n",
              " 'use',\n",
              " 'an',\n",
              " '<unk>',\n",
              " '!']"
            ]
          },
          "metadata": {},
          "execution_count": 70
        }
      ]
    },
    {
      "cell_type": "code",
      "source": [
        "test_data_replaced[20]"
      ],
      "metadata": {
        "colab": {
          "base_uri": "https://localhost:8080/"
        },
        "id": "PGruuQz8Ebkv",
        "outputId": "428c173d-e685-45d3-b33d-cc90cb095bcd"
      },
      "execution_count": 71,
      "outputs": [
        {
          "output_type": "execute_result",
          "data": {
            "text/plain": [
              "['if',\n",
              " 'for',\n",
              " 'some',\n",
              " 'reason',\n",
              " 'our',\n",
              " '<unk>',\n",
              " 'link',\n",
              " 'dosent',\n",
              " 'work',\n",
              " 'for',\n",
              " 'you',\n",
              " ',',\n",
              " 'you',\n",
              " 'can',\n",
              " 'download',\n",
              " 'our',\n",
              " 'demos',\n",
              " 'on',\n",
              " 'the',\n",
              " '``',\n",
              " '<unk>',\n",
              " \"''\",\n",
              " 'tab',\n",
              " 'on',\n",
              " 'our',\n",
              " 'page',\n",
              " '!']"
            ]
          },
          "metadata": {},
          "execution_count": 71
        }
      ]
    },
    {
      "cell_type": "code",
      "source": [
        "def creat_n_grams(data, n, start_token='<s>', end_token='<e>'):\n",
        "  n_grams = {}\n",
        "  for sentence in data:\n",
        "    sentence = [start_token]*n + sentence + [end_token]\n",
        "    sentence = tuple(sentence)\n",
        "    m = len(sentence) if n==1 else len(sentence)-1\n",
        "\n",
        "    for i in range(m):\n",
        "      n_gram = sentence[i: i+n]\n",
        "      if n_gram in n_grams.keys():\n",
        "        n_grams[n_gram] += 1\n",
        "      else:\n",
        "        n_grams[n_gram] = 1\n",
        "  return n_grams"
      ],
      "metadata": {
        "id": "i9tL8e9cEg-7"
      },
      "execution_count": 73,
      "outputs": []
    },
    {
      "cell_type": "code",
      "source": [
        "for i in creat_n_grams(test_data_replaced, 1).items():\n",
        "  print(i)\n",
        "  break"
      ],
      "metadata": {
        "colab": {
          "base_uri": "https://localhost:8080/"
        },
        "id": "rylwzPgEMF5l",
        "outputId": "e0443481-76c1-4665-9cde-4e2333dfac30"
      },
      "execution_count": 82,
      "outputs": [
        {
          "output_type": "stream",
          "name": "stdout",
          "text": [
            "(('<s>',), 9593)\n"
          ]
        }
      ]
    },
    {
      "cell_type": "code",
      "source": [
        "creat_n_grams(test_data_replaced, 1)"
      ],
      "metadata": {
        "colab": {
          "base_uri": "https://localhost:8080/"
        },
        "id": "3fhG5FUTMN6J",
        "outputId": "309ee1f2-9cab-46f0-de8c-aa392ca5ca7f"
      },
      "execution_count": 83,
      "outputs": [
        {
          "output_type": "execute_result",
          "data": {
            "text/plain": [
              "{('<s>',): 9593,\n",
              " ('eric',): 10,\n",
              " (\"'s\",): 1177,\n",
              " ('poem',): 4,\n",
              " ('is',): 1508,\n",
              " ('``',): 546,\n",
              " ('diesel',): 4,\n",
              " (',',): 3035,\n",
              " (\"''\",): 552,\n",
              " ('and',): 1776,\n",
              " ('the',): 3808,\n",
              " ('february',): 4,\n",
              " ('2011',): 16,\n",
              " ('<unk>',): 5316,\n",
              " ('.',): 6028,\n",
              " ('represented',): 1,\n",
              " ('in',): 1558,\n",
              " ('january',): 5,\n",
              " ('with',): 720,\n",
              " ('new',): 269,\n",
              " ('year',): 107,\n",
              " ('<e>',): 9593,\n",
              " ('when',): 333,\n",
              " ('people',): 227,\n",
              " ('touch',): 9,\n",
              " ('my',): 1206,\n",
              " ('feet',): 11,\n",
              " ('<',): 208,\n",
              " ('#',): 1078,\n",
              " ('we',): 628,\n",
              " ('have',): 748,\n",
              " ('decided',): 8,\n",
              " ('to',): 3162,\n",
              " ('change',): 40,\n",
              " ('our',): 228,\n",
              " ('last',): 142,\n",
              " ('names',): 11,\n",
              " ('smith',): 4,\n",
              " ('you',): 2388,\n",
              " (\"'re\",): 252,\n",
              " ('right',): 182,\n",
              " ('there',): 256,\n",
              " ('another',): 78,\n",
              " ('label',): 3,\n",
              " ('for',): 1555,\n",
              " ('it',): 1617,\n",
              " ('but',): 517,\n",
              " ('inappropriate',): 1,\n",
              " ('fastest',): 2,\n",
              " ('way',): 141,\n",
              " ('ignore',): 8,\n",
              " ('begin',): 8,\n",
              " ('warning',): 2,\n",
              " ('24',): 8,\n",
              " ('hours',): 37,\n",
              " ('advance',): 6,\n",
              " ('about',): 346,\n",
              " ('potentially',): 1,\n",
              " ('deadly',): 1,\n",
              " ('storms',): 4,\n",
              " ('from',): 362,\n",
              " ('today',): 293,\n",
              " ('i',): 3765,\n",
              " (\"'m\",): 560,\n",
              " ('an',): 269,\n",
              " ('owner',): 3,\n",
              " ('of',): 1426,\n",
              " ('royal',): 3,\n",
              " ('entertainment',): 3,\n",
              " ('world',): 79,\n",
              " ('!',): 5156,\n",
              " (')',): 854,\n",
              " ('uh',): 14,\n",
              " ('absolutely',): 18,\n",
              " ('always',): 106,\n",
              " ('up',): 486,\n",
              " ('a',): 2406,\n",
              " ('fun',): 75,\n",
              " ('time',): 291,\n",
              " ('york',): 5,\n",
              " ('hope',): 147,\n",
              " ('that',): 1123,\n",
              " ('someday',): 5,\n",
              " ('soon',): 83,\n",
              " ('majority',): 3,\n",
              " ('publications',): 2,\n",
              " (\"'\",): 144,\n",
              " ('books',): 22,\n",
              " ('will',): 388,\n",
              " ('be',): 762,\n",
              " ('available',): 22,\n",
              " ('kindle',): 5,\n",
              " ('surprised',): 8,\n",
              " (\"n't\",): 844,\n",
              " ('already',): 60,\n",
              " ('case',): 13,\n",
              " ('2',): 135,\n",
              " ('big',): 97,\n",
              " ('guys',): 85,\n",
              " ('front',): 18,\n",
              " ('go',): 298,\n",
              " ('thomas',): 11,\n",
              " ('alex',): 6,\n",
              " ('was',): 526,\n",
              " ('smart',): 15,\n",
              " ('move',): 28,\n",
              " ('rt',): 337,\n",
              " ('if',): 442,\n",
              " ('love',): 413,\n",
              " ('gummy',): 1,\n",
              " ('vitamins',): 1,\n",
              " (':',): 1548,\n",
              " ('causing',): 2,\n",
              " ('did',): 218,\n",
              " ('on',): 1120,\n",
              " ('friday',): 54,\n",
              " ('early',): 43,\n",
              " ('bird',): 9,\n",
              " ('gets',): 29,\n",
              " ('worm',): 2,\n",
              " ('?',): 1624,\n",
              " ('sounds',): 49,\n",
              " ('good',): 434,\n",
              " ('do',): 694,\n",
              " ('e-mail',): 2,\n",
              " ('address',): 10,\n",
              " ('garmin',): 1,\n",
              " ('android',): 4,\n",
              " ('has',): 208,\n",
              " ('lot',): 50,\n",
              " ('going',): 251,\n",
              " ('threatened',): 2,\n",
              " ('by',): 263,\n",
              " ('nexus',): 1,\n",
              " ('1',): 58,\n",
              " ('free',): 70,\n",
              " ('tho',): 20,\n",
              " ('haha',): 116,\n",
              " ('wow',): 55,\n",
              " ('men',): 33,\n",
              " ('can',): 394,\n",
              " ('dorky',): 1,\n",
              " ('sometimes',): 46,\n",
              " ('morning',): 113,\n",
              " ('cuz',): 17,\n",
              " ('make',): 221,\n",
              " ('great',): 324,\n",
              " ('day',): 366,\n",
              " ('blessed',): 10,\n",
              " ('why',): 138,\n",
              " ('so',): 683,\n",
              " ('hot',): 47,\n",
              " ('want',): 199,\n",
              " ('die',): 17,\n",
              " ('download',): 5,\n",
              " ('(',): 424,\n",
              " ('app',): 28,\n",
              " ('itouch',): 1,\n",
              " ('or',): 270,\n",
              " ('iphone',): 21,\n",
              " ('yes',): 110,\n",
              " ('am',): 177,\n",
              " ('out',): 465,\n",
              " ('lauren',): 3,\n",
              " ('yankees',): 6,\n",
              " ('-',): 368,\n",
              " ('red',): 31,\n",
              " ('sox',): 6,\n",
              " ('=',): 39,\n",
              " ('best',): 142,\n",
              " ('rivalry',): 1,\n",
              " ('sports',): 17,\n",
              " ('period',): 4,\n",
              " ('they',): 360,\n",
              " ('baseball',): 23,\n",
              " ('may',): 69,\n",
              " ('exciting',): 13,\n",
              " ('some',): 259,\n",
              " ('reason',): 23,\n",
              " ('link',): 11,\n",
              " ('dosent',): 1,\n",
              " ('work',): 176,\n",
              " ('demos',): 1,\n",
              " ('tab',): 2,\n",
              " ('page',): 25,\n",
              " ('caution',): 3,\n",
              " ('while',): 50,\n",
              " ('this',): 702,\n",
              " ('lessen',): 2,\n",
              " ('your',): 671,\n",
              " ('hangover',): 4,\n",
              " ('not',): 537,\n",
              " ('amount',): 3,\n",
              " ('found',): 29,\n",
              " ('within',): 7,\n",
              " ('get',): 481,\n",
              " ('clothes',): 4,\n",
              " ('dryer',): 1,\n",
              " ('job',): 61,\n",
              " ('matt',): 7,\n",
              " ('listen',): 18,\n",
              " ('miss',): 83,\n",
              " ('blink',): 1,\n",
              " ('182',): 1,\n",
              " ('>',): 94,\n",
              " ('...',): 1037,\n",
              " ('raining',): 6,\n",
              " ('over',): 135,\n",
              " ('at',): 747,\n",
              " ('house',): 52,\n",
              " ('thats',): 24,\n",
              " ('crazy',): 58,\n",
              " ('ca',): 170,\n",
              " ('even',): 100,\n",
              " ('tell',): 90,\n",
              " ('feeling',): 42,\n",
              " ('hearing',): 14,\n",
              " ('beats',): 11,\n",
              " ('than',): 105,\n",
              " ('any',): 126,\n",
              " ('drug',): 6,\n",
              " ('band',): 20,\n",
              " ('name',): 45,\n",
              " ('how',): 322,\n",
              " ('insomnia',): 1,\n",
              " ('night',): 161,\n",
              " ('jinx',): 1,\n",
              " ('yourself',): 37,\n",
              " ('cool',): 70,\n",
              " ('wanted',): 25,\n",
              " ('hoodrat',): 1,\n",
              " ('stuff',): 55,\n",
              " ('friend',): 66,\n",
              " ('late',): 36,\n",
              " ('hub',): 1,\n",
              " ('nights',): 9,\n",
              " ('like',): 508,\n",
              " ('these',): 57,\n",
              " ('are',): 661,\n",
              " ('keep',): 103,\n",
              " ('hoodie',): 1,\n",
              " ('desk',): 8,\n",
              " ('standing',): 6,\n",
              " ('corner',): 14,\n",
              " ('as',): 297,\n",
              " ('usual',): 4,\n",
              " ('where',): 115,\n",
              " ('mvp',): 3,\n",
              " ('happy',): 220,\n",
              " ('birthday',): 73,\n",
              " ('shout',): 13,\n",
              " ('working',): 53,\n",
              " ('bakery',): 3,\n",
              " ('outside',): 25,\n",
              " ('summer',): 39,\n",
              " ('afro',): 1,\n",
              " ('getting',): 109,\n",
              " ('braids',): 1,\n",
              " ('asap',): 10,\n",
              " ('been',): 167,\n",
              " ('talk',): 57,\n",
              " ('footnotes',): 1,\n",
              " ('among',): 2,\n",
              " ('lately',): 9,\n",
              " ('only',): 171,\n",
              " ('one',): 334,\n",
              " ('who',): 258,\n",
              " ('enjoys',): 1,\n",
              " ('reading',): 26,\n",
              " ('them',): 159,\n",
              " ('escape',): 2,\n",
              " ('coffeeshop',): 1,\n",
              " ('place',): 40,\n",
              " ('effort',): 5,\n",
              " ('works',): 13,\n",
              " ('me',): 820,\n",
              " ('inspiration',): 8,\n",
              " ('runs',): 5,\n",
              " ('dry',): 7,\n",
              " ('brandon',): 4,\n",
              " ('joke',): 19,\n",
              " ('looks',): 50,\n",
              " ('btw',): 18,\n",
              " ('director',): 7,\n",
              " ('stanley',): 2,\n",
              " ('married',): 14,\n",
              " ('actress',): 4,\n",
              " ('would',): 238,\n",
              " (\"'ve\",): 124,\n",
              " ('too',): 241,\n",
              " ('shuld',): 1,\n",
              " ('movie',): 42,\n",
              " ('incredible',): 9,\n",
              " ('ppv',): 2,\n",
              " ('im',): 133,\n",
              " ('speechless',): 3,\n",
              " ('now',): 352,\n",
              " ('actually',): 55,\n",
              " ('gained',): 2,\n",
              " ('respect',): 14,\n",
              " ('cena',): 3,\n",
              " ('forgot',): 20,\n",
              " ('ranch',): 1,\n",
              " (\"'ll\",): 226,\n",
              " ('pops',): 5,\n",
              " ('bring',): 33,\n",
              " ('sunday',): 28,\n",
              " ('rodeo',): 2,\n",
              " ('git',): 2,\n",
              " ('r',): 41,\n",
              " ('done',): 78,\n",
              " ('break',): 35,\n",
              " ('single',): 20,\n",
              " ('looking',): 98,\n",
              " ('indie',): 7,\n",
              " ('music',): 85,\n",
              " ('air',): 11,\n",
              " ('live',): 81,\n",
              " ('&',): 393,\n",
              " ('stage',): 7,\n",
              " ('studio',): 17,\n",
              " ('nate',): 1,\n",
              " ('thanx',): 7,\n",
              " ('week',): 109,\n",
              " ('also',): 69,\n",
              " ('kobe',): 5,\n",
              " ('very',): 101,\n",
              " ('those',): 89,\n",
              " ('knee',): 4,\n",
              " ('pads',): 1,\n",
              " ('unfortunately',): 4,\n",
              " ('celts',): 1,\n",
              " ('his',): 137,\n",
              " ('jumper',): 1,\n",
              " ('links',): 4,\n",
              " ('between',): 15,\n",
              " ('pages',): 7,\n",
              " ('game',): 127,\n",
              " ('loved',): 29,\n",
              " ('lost',): 28,\n",
              " ('starbucks',): 11,\n",
              " ('card',): 18,\n",
              " ('replaced',): 1,\n",
              " ('still',): 139,\n",
              " ('retain',): 2,\n",
              " ('reward',): 4,\n",
              " ('star',): 18,\n",
              " ('status',): 6,\n",
              " ('hey',): 101,\n",
              " ('trending',): 8,\n",
              " ('topic',): 9,\n",
              " ('lovely',): 13,\n",
              " ('service',): 19,\n",
              " ('weekend',): 86,\n",
              " ('honored',): 4,\n",
              " ('pay',): 25,\n",
              " ('tribute',): 9,\n",
              " ('such',): 38,\n",
              " ('wonderful',): 26,\n",
              " ('man',): 105,\n",
              " ('ever',): 97,\n",
              " ('he',): 273,\n",
              " ('u',): 329,\n",
              " ('reply',): 13,\n",
              " ('since',): 41,\n",
              " ('were',): 107,\n",
              " ('inside',): 16,\n",
              " ('please',): 132,\n",
              " ('follow',): 229,\n",
              " ('retweet',): 10,\n",
              " ('austin',): 23,\n",
              " ('mahone',): 3,\n",
              " ('concert',): 9,\n",
              " ('nyc',): 19,\n",
              " ('should',): 192,\n",
              " ('gotten',): 3,\n",
              " ('someone',): 86,\n",
              " ('chocolate',): 17,\n",
              " ('strawberries',): 3,\n",
              " ('hahaha',): 37,\n",
              " ('just',): 626,\n",
              " ('came',): 27,\n",
              " ('across',): 19,\n",
              " ('say',): 127,\n",
              " ('hello',): 22,\n",
              " ('q',): 12,\n",
              " ('become',): 20,\n",
              " ('famous',): 11,\n",
              " ('manager',): 5,\n",
              " ('worked',): 9,\n",
              " ('ariana',): 3,\n",
              " ('grande',): 2,\n",
              " ('went',): 44,\n",
              " ('watching',): 74,\n",
              " ('degrassi',): 1,\n",
              " ('see',): 250,\n",
              " ('drake',): 6,\n",
              " ('little',): 86,\n",
              " ('woohoo',): 1,\n",
              " ('thanks',): 366,\n",
              " ('back',): 248,\n",
              " ('yee',): 1,\n",
              " ('shopping',): 16,\n",
              " ('spree',): 1,\n",
              " ('longer',): 10,\n",
              " ('skirts',): 2,\n",
              " ('bike',): 9,\n",
              " ('shorts',): 4,\n",
              " ('she',): 137,\n",
              " ('cub',): 2,\n",
              " ('because',): 91,\n",
              " ('her',): 147,\n",
              " ('legs',): 6,\n",
              " ('growing',): 6,\n",
              " ('schools',): 3,\n",
              " ('harms',): 1,\n",
              " ('kids',): 47,\n",
              " ('public',): 13,\n",
              " ('edu',): 1,\n",
              " ('product',): 11,\n",
              " ('serve',): 3,\n",
              " ('parents',): 17,\n",
              " ('lunch',): 31,\n",
              " ('homework',): 8,\n",
              " ('session',): 17,\n",
              " ('enough',): 39,\n",
              " ('join',): 30,\n",
              " ('“',): 110,\n",
              " ('brand',): 15,\n",
              " ('no',): 271,\n",
              " ('what',): 472,\n",
              " ('consumer',): 5,\n",
              " ('–',): 13,\n",
              " ('consumers',): 1,\n",
              " ('each',): 25,\n",
              " ('other',): 76,\n",
              " ('”',): 102,\n",
              " ('scott',): 9,\n",
              " ('cook',): 7,\n",
              " ('arrived',): 7,\n",
              " ('stl',): 1,\n",
              " ('ten',): 10,\n",
              " ('minutes',): 33,\n",
              " ('folks',): 13,\n",
              " ('sipping',): 1,\n",
              " ('w/',): 52,\n",
              " ('rose',): 6,\n",
              " ('hip',): 9,\n",
              " ('spanish',): 9,\n",
              " ('tray',): 1,\n",
              " ('come',): 165,\n",
              " ('knicks',): 3,\n",
              " ('dallas',): 13,\n",
              " ('thatawkwardmoment',): 1,\n",
              " ('youre',): 6,\n",
              " ('eating',): 19,\n",
              " ('goldfish',): 1,\n",
              " ('studying',): 10,\n",
              " ('bsb',): 1,\n",
              " ('reunion',): 5,\n",
              " ('forms',): 2,\n",
              " ('circle',): 5,\n",
              " ('around',): 55,\n",
              " ('starts',): 24,\n",
              " ('talking',): 42,\n",
              " ('travel',): 9,\n",
              " ('cheap',): 9,\n",
              " ('airline',): 3,\n",
              " ('tickets',): 17,\n",
              " ('hotels',): 2,\n",
              " ('flights',): 4,\n",
              " ('vacations',): 2,\n",
              " ('employers',): 1,\n",
              " ('ask',): 41,\n",
              " ('facebook',): 41,\n",
              " ('profile',): 11,\n",
              " ('ur',): 71,\n",
              " ('password',): 6,\n",
              " ('feel',): 121,\n",
              " ('email',): 34,\n",
              " ('us',): 215,\n",
              " ('events',): 9,\n",
              " ('specials',): 4,\n",
              " ('songs',): 21,\n",
              " ('sorry',): 66,\n",
              " ('wait',): 115,\n",
              " ('soon..',): 1,\n",
              " ('wake',): 19,\n",
              " ('bad',): 81,\n",
              " ('celtics',): 4,\n",
              " ('bradley',): 2,\n",
              " ('moore',): 3,\n",
              " ('playing',): 40,\n",
              " ('could',): 119,\n",
              " ('entertain',): 3,\n",
              " ('trading',): 2,\n",
              " ('rondo',): 4,\n",
              " ('young',): 22,\n",
              " ('investors',): 5,\n",
              " ('approve',): 3,\n",
              " ('board',): 11,\n",
              " ('had',): 165,\n",
              " ('burger',): 9,\n",
              " ('yet',): 53,\n",
              " ('never',): 152,\n",
              " ('believed',): 2,\n",
              " ('things',): 72,\n",
              " ('happened',): 19,\n",
              " ('aye',): 3,\n",
              " ('guess',): 49,\n",
              " ('begins',): 8,\n",
              " ('leg',): 4,\n",
              " ('cramp',): 3,\n",
              " ('danm',): 1,\n",
              " ('hockey',): 10,\n",
              " ('hell',): 42,\n",
              " ('customer',): 9,\n",
              " ('staff',): 5,\n",
              " ('able',): 21,\n",
              " ('much',): 185,\n",
              " ('beyond',): 11,\n",
              " ('increasing',): 1,\n",
              " ('blood',): 7,\n",
              " ('pressure',): 3,\n",
              " ('knockin',): 1,\n",
              " ('lol',): 261,\n",
              " ('let',): 134,\n",
              " ('know',): 320,\n",
              " ('really',): 179,\n",
              " ('then',): 134,\n",
              " ('must',): 42,\n",
              " ('doing',): 74,\n",
              " ('wrong',): 45,\n",
              " ('jj',): 3,\n",
              " ('hardy',): 1,\n",
              " ('treatment',): 5,\n",
              " ('sent',): 25,\n",
              " ('down',): 118,\n",
              " ('cooking',): 11,\n",
              " ('channel',): 6,\n",
              " ('recipes',): 5,\n",
              " ('easy',): 13,\n",
              " ('dishes',): 2,\n",
              " ('tweet',): 91,\n",
              " ('their',): 123,\n",
              " ('brown',): 10,\n",
              " ('congrats',): 45,\n",
              " ('heading',): 21,\n",
              " ('glad',): 62,\n",
              " ('-thanks',): 1,\n",
              " ('half',): 30,\n",
              " ('off',): 163,\n",
              " ('steakhouse',): 2,\n",
              " ('meat',): 4,\n",
              " ('market',): 12,\n",
              " ('360',): 3,\n",
              " ('sold',): 14,\n",
              " ('joining',): 6,\n",
              " ('30',): 22,\n",
              " ('club',): 14,\n",
              " ('most',): 75,\n",
              " ('definitely',): 25,\n",
              " ('beautiful',): 54,\n",
              " ('sharing',): 7,\n",
              " ('interview',): 15,\n",
              " ('lmfao',): 8,\n",
              " ('apr',): 1,\n",
              " ('1932',): 2,\n",
              " ('churchill',): 3,\n",
              " ('guest',): 6,\n",
              " ('king',): 17,\n",
              " ('windsor',): 1,\n",
              " ('castle',): 4,\n",
              " ('cue',): 2,\n",
              " ('unfollow',): 3,\n",
              " ('visit',): 21,\n",
              " ('again',): 87,\n",
              " ('using',): 29,\n",
              " ('trying',): 51,\n",
              " ('event',): 34,\n",
              " ('enjoyed',): 10,\n",
              " ('food',): 56,\n",
              " ('9',): 21,\n",
              " ('more',): 267,\n",
              " ('days',): 72,\n",
              " ('theatre',): 3,\n",
              " ('nite',): 4,\n",
              " ('tha',): 7,\n",
              " ('chi',): 7,\n",
              " ('tonight',): 180,\n",
              " ('ya',): 73,\n",
              " ('dont',): 55,\n",
              " ('hoops',): 2,\n",
              " ('after',): 93,\n",
              " ('school',): 84,\n",
              " ('square',): 4,\n",
              " ('gym',): 11,\n",
              " ('sad',): 39,\n",
              " ('hear',): 48,\n",
              " ('passing',): 7,\n",
              " ('junior',): 6,\n",
              " ('seau',): 4,\n",
              " ('feared',): 2,\n",
              " ('thoughts',): 15,\n",
              " ('prayers',): 8,\n",
              " ('entire',): 11,\n",
              " ('fam',): 3,\n",
              " ('postsecret',): 1,\n",
              " ('real',): 90,\n",
              " ('levels',): 3,\n",
              " ('doe',): 6,\n",
              " ('history',): 19,\n",
              " ('teacher',): 10,\n",
              " ('fall',): 23,\n",
              " ('steve',): 17,\n",
              " ('perry',): 3,\n",
              " ('large',): 8,\n",
              " ('proportional',): 1,\n",
              " ('vs',): 16,\n",
              " ('teachers',): 4,\n",
              " ('study',): 12,\n",
              " ('abroad',): 2,\n",
              " ('+10g',): 2,\n",
              " ('thursday',): 22,\n",
              " ('admission',): 2,\n",
              " ('bam',): 2,\n",
              " ('plan',): 9,\n",
              " ('ray',): 4,\n",
              " ('baldino',): 2,\n",
              " ('clyde',): 2,\n",
              " ('butcher',): 3,\n",
              " ('black',): 28,\n",
              " ('white',): 31,\n",
              " ('photography',): 4,\n",
              " ('following',): 55,\n",
              " ('mom',): 50,\n",
              " ('mothers',): 13,\n",
              " ('becuz',): 2,\n",
              " ('all',): 493,\n",
              " ('reasons',): 5,\n",
              " ('acount',): 1,\n",
              " ('disabled',): 2,\n",
              " ('its',): 145,\n",
              " ('annoying',): 11,\n",
              " ('account',): 30,\n",
              " ('needs',): 49,\n",
              " ('b',): 28,\n",
              " ('fixed',): 7,\n",
              " ('audition',): 10,\n",
              " ('..',): 49,\n",
              " ('plans',): 9,\n",
              " ('cant',): 29,\n",
              " ('till',): 23,\n",
              " ('goin',): 14,\n",
              " ('mi',): 4,\n",
              " ('forward',): 47,\n",
              " ('chatting',): 6,\n",
              " ('treat',): 3,\n",
              " ('anyway',): 9,\n",
              " ('later',): 36,\n",
              " ('giants',): 7,\n",
              " ('won',): 30,\n",
              " ('super',): 33,\n",
              " ('bowl',): 9,\n",
              " ('sure',): 95,\n",
              " ('sister-in-law',): 1,\n",
              " ('ceremony',): 4,\n",
              " ('two',): 63,\n",
              " ('weeks',): 26,\n",
              " ('certainly',): 6,\n",
              " ('helped',): 4,\n",
              " ('others',): 24,\n",
              " ('tea',): 10,\n",
              " ('taken',): 10,\n",
              " ('solitude',): 2,\n",
              " ('lewis',): 4,\n",
              " ('pocket',): 2,\n",
              " ('save',): 18,\n",
              " ('bookmark',): 1,\n",
              " ('says',): 42,\n",
              " ('toss',): 1,\n",
              " ('vote',): 17,\n",
              " ('ahmad',): 2,\n",
              " ('carroll',): 2,\n",
              " ('thank',): 152,\n",
              " ('clippers',): 2,\n",
              " ('fly',): 10,\n",
              " ('under',): 19,\n",
              " ('radar',): 1,\n",
              " ('hard',): 65,\n",
              " ('grasp',): 2,\n",
              " ('gap',): 2,\n",
              " ('unless',): 17,\n",
              " ('here',): 155,\n",
              " ('homeless',): 5,\n",
              " ('lakers',): 6,\n",
              " ('scores',): 1,\n",
              " ('huge',): 20,\n",
              " ('blake',): 4,\n",
              " ('office',): 24,\n",
              " ('watch',): 77,\n",
              " ('booth',): 10,\n",
              " ('coming',): 62,\n",
              " ('together',): 29,\n",
              " ('got',): 277,\n",
              " ('tent',): 1,\n",
              " ('flags',): 2,\n",
              " ('banners',): 1,\n",
              " ('featured',): 4,\n",
              " ('oh',): 117,\n",
              " ('tv',): 26,\n",
              " ('appreciation',): 4,\n",
              " ('type',): 16,\n",
              " ('twitter',): 131,\n",
              " ('message',): 17,\n",
              " ('open',): 32,\n",
              " ('send',): 42,\n",
              " ('georgetown',): 1,\n",
              " ('rebecca',): 3,\n",
              " ('repeat',): 3,\n",
              " ('boyfriends',): 3,\n",
              " ('hugs',): 6,\n",
              " ('pageant',): 2,\n",
              " ('sister',): 15,\n",
              " ('meet',): 45,\n",
              " ('july',): 13,\n",
              " ('xoxo',): 9,\n",
              " ('pretty',): 67,\n",
              " ('many',): 81,\n",
              " ('scrubs',): 1,\n",
              " ('few',): 42,\n",
              " ('shows',): 15,\n",
              " ('affected',): 1,\n",
              " ('personal',): 16,\n",
              " ('level',): 7,\n",
              " ('first',): 134,\n",
              " ('fishing',): 6,\n",
              " ('better',): 109,\n",
              " ('need',): 220,\n",
              " ('find',): 74,\n",
              " ('republicans',): 4,\n",
              " ('crow',): 2,\n",
              " ('abt',): 5,\n",
              " ('reagan',): 1,\n",
              " ('cold',): 25,\n",
              " ('war',): 13,\n",
              " ('thr',): 1,\n",
              " ('rhetoric',): 2,\n",
              " ('suggests',): 2,\n",
              " ('think',): 203,\n",
              " ('fighting',): 8,\n",
              " ('homee',): 2,\n",
              " ('ok',): 58,\n",
              " ('mondays',): 5,\n",
              " ('quickly',): 7,\n",
              " ('--',): 82,\n",
              " ('fan',): 29,\n",
              " ('class',): 40,\n",
              " ('boring',): 7,\n",
              " ('mikes',): 1,\n",
              " ('guy',): 63,\n",
              " ('mike',): 10,\n",
              " ('perfect',): 28,\n",
              " ('face',): 35,\n",
              " ('radio',): 27,\n",
              " ('overheard',): 3,\n",
              " ('ta',): 47,\n",
              " ('students',): 28,\n",
              " ('bootcamp',): 5,\n",
              " ('exactly',): 23,\n",
              " ('thought',): 64,\n",
              " ('offer',): 16,\n",
              " ('deal',): 17,\n",
              " ('mets',): 2,\n",
              " ('truly',): 15,\n",
              " ('believe',): 42,\n",
              " ('justin',): 14,\n",
              " ('turning',): 8,\n",
              " ('18',): 11,\n",
              " ('less',): 33,\n",
              " ('omg',): 36,\n",
              " ('grew',): 2,\n",
              " ('fast',): 20,\n",
              " ('rest',): 21,\n",
              " ('well',): 161,\n",
              " ('being',): 77,\n",
              " ('stupid',): 24,\n",
              " ('switch',): 6,\n",
              " ('accounts',): 3,\n",
              " ('lolol',): 5,\n",
              " ('nm',): 4,\n",
              " ('xx',): 7,\n",
              " ('slightly',): 3,\n",
              " ('shocked',): 5,\n",
              " ('scumbag',): 1,\n",
              " ('john',): 19,\n",
              " ('edwards',): 3,\n",
              " ('kind',): 36,\n",
              " ('women',): 41,\n",
              " ('home',): 83,\n",
              " ('gon',): 95,\n",
              " ('na',): 155,\n",
              " ('eat',): 35,\n",
              " ('something',): 91,\n",
              " ('train',): 10,\n",
              " ('florida',): 9,\n",
              " ('state',): 27,\n",
              " ('lit',): 7,\n",
              " ('fuse',): 1,\n",
              " ('potential',): 8,\n",
              " ('12',): 12,\n",
              " ('yahoo',): 4,\n",
              " ('bing',): 1,\n",
              " ('include',): 10,\n",
              " ('films',): 7,\n",
              " ('film',): 25,\n",
              " ('wizard',): 2,\n",
              " ('oz',): 1,\n",
              " ('turned',): 13,\n",
              " ('judy',): 1,\n",
              " ('5',): 50,\n",
              " ('nd',): 9,\n",
              " ('bout',): 40,\n",
              " ('netflix',): 10,\n",
              " ('asleep',): 10,\n",
              " ('=/',): 1,\n",
              " ('94.9',): 1,\n",
              " ('river',): 5,\n",
              " ('changes',): 9,\n",
              " ('household',): 1,\n",
              " ('waste',): 7,\n",
              " ('program',): 18,\n",
              " ('support',): 49,\n",
              " ('movement',): 5,\n",
              " ('mind',): 26,\n",
              " ('cause',): 41,\n",
              " ('becoming',): 5,\n",
              " ('play',): 72,\n",
              " ('blew',): 3,\n",
              " ('philly',): 9,\n",
              " ('currently',): 9,\n",
              " ('tired',): 26,\n",
              " ('fuck',): 52,\n",
              " (';',): 218,\n",
              " ('grumble',): 2,\n",
              " ('autocorrect',): 3,\n",
              " ('yer',): 1,\n",
              " ('tits',): 1,\n",
              " ('signed',): 8,\n",
              " ('everyone',): 101,\n",
              " ('generation',): 3,\n",
              " ('ours',): 5,\n",
              " ('anyone',): 84,\n",
              " ('dead',): 31,\n",
              " ('alive',): 9,\n",
              " ('seeing',): 29,\n",
              " ('yur',): 1,\n",
              " ('default',): 3,\n",
              " ('cute',): 18,\n",
              " ('d',): 78,\n",
              " ('welcome',): 68,\n",
              " ('fabulous',): 6,\n",
              " ('las',): 8,\n",
              " ('vegas',): 16,\n",
              " ('nevada',): 2,\n",
              " ('show',): 147,\n",
              " ('pst',): 3,\n",
              " ('host',): 6,\n",
              " ('nfl',): 12,\n",
              " ('schedule',): 5,\n",
              " ('release',): 14,\n",
              " ('hyped',): 2,\n",
              " ('division',): 3,\n",
              " ('games',): 26,\n",
              " ('17',): 5,\n",
              " ('brighter',): 1,\n",
              " ('note',): 9,\n",
              " ('call',): 81,\n",
              " ('winter',): 7,\n",
              " ('true',): 43,\n",
              " ('race',): 11,\n",
              " ('rather',): 9,\n",
              " ('interesting',): 29,\n",
              " ('yup',): 15,\n",
              " ('waiting',): 36,\n",
              " ('happen',): 22,\n",
              " ('official',): 7,\n",
              " ('spending',): 6,\n",
              " ('writing',): 32,\n",
              " ('non-profit',): 1,\n",
              " ('haiti',): 2,\n",
              " ('pr',): 10,\n",
              " ('ngo',): 1,\n",
              " ('amazing',): 74,\n",
              " ('life',): 121,\n",
              " ('experience',): 19,\n",
              " ('prefer',): 6,\n",
              " ('latter',): 1,\n",
              " ('tattoos',): 2,\n",
              " ('quotes',): 3,\n",
              " ('thanksgiving',): 8,\n",
              " ('sponsored',): 1,\n",
              " ('wifi',): 3,\n",
              " ('spots',): 5,\n",
              " ('convention',): 5,\n",
              " ('center',): 15,\n",
              " ('preconference',): 2,\n",
              " ('room',): 31,\n",
              " ('marriott',): 2,\n",
              " ('lobby',): 5,\n",
              " ('sweet',): 49,\n",
              " ('dreams',): 18,\n",
              " ('podcast',): 2,\n",
              " ('ugly',): 9,\n",
              " ('freakin',): 6,\n",
              " ('hate',): 79,\n",
              " ('thinking',): 40,\n",
              " ('excited',): 61,\n",
              " ('vacation',): 9,\n",
              " ('trip',): 24,\n",
              " ('local',): 17,\n",
              " ('musicians',): 1,\n",
              " ('same',): 70,\n",
              " ('number',): 17,\n",
              " ('mrs',): 1,\n",
              " ('text',): 35,\n",
              " ('anybody',): 8,\n",
              " ('hahah',): 10,\n",
              " ('mother',): 31,\n",
              " ('past',): 22,\n",
              " ('present',): 4,\n",
              " ('moms',): 8,\n",
              " ('raise',): 5,\n",
              " ('nation',): 3,\n",
              " ('365',): 2,\n",
              " ('daryl',): 1,\n",
              " ('favorite',): 45,\n",
              " ('though',): 61,\n",
              " ('realistic',): 1,\n",
              " ('wheels',): 5,\n",
              " ('lots',): 13,\n",
              " ('miles',): 13,\n",
              " (\"o'brien\",): 2,\n",
              " ('karen',): 5,\n",
              " ('pretentious',): 2,\n",
              " ('dignity',): 1,\n",
              " ('agree',): 32,\n",
              " ('100',): 18,\n",
              " ('%',): 56,\n",
              " ('grant',): 2,\n",
              " ('warm',): 14,\n",
              " ('spirit',): 6,\n",
              " ('compassion',): 2,\n",
              " ('clients',): 8,\n",
              " ('asked',): 18,\n",
              " ('help',): 76,\n",
              " ('heheh',): 3,\n",
              " ('hehehehe',): 1,\n",
              " ('3',): 177,\n",
              " ('developer',): 2,\n",
              " ('challenges',): 2,\n",
              " ('skill',): 2,\n",
              " ('set',): 29,\n",
              " ('preserve',): 2,\n",
              " ('ideals',): 1,\n",
              " ('share',): 25,\n",
              " ('color',): 12,\n",
              " ('separation',): 1,\n",
              " ('today..',): 1,\n",
              " ('goodnight',): 16,\n",
              " ('everybody',): 23,\n",
              " ('awesome',): 93,\n",
              " ('mine',): 21,\n",
              " ('rocky',): 3,\n",
              " ('sending',): 13,\n",
              " ('heart',): 45,\n",
              " ('broken',): 4,\n",
              " ('breakup',): 1,\n",
              " ('makes',): 70,\n",
              " ('worse',): 10,\n",
              " ('especially',): 16,\n",
              " ('speak',): 14,\n",
              " ('jg',): 1,\n",
              " ('head',): 48,\n",
              " ('coach',): 13,\n",
              " ('proves',): 1,\n",
              " ('worst',): 20,\n",
              " ('away',): 43,\n",
              " ('parks',): 3,\n",
              " ('rec',): 3,\n",
              " ('draft',): 13,\n",
              " ('minute',): 13,\n",
              " ('hoosiers',): 2,\n",
              " ('reference',): 3,\n",
              " ('news',): 40,\n",
              " ('marathon',): 8,\n",
              " ('47',): 2,\n",
              " ('long',): 67,\n",
              " ('making',): 52,\n",
              " ('angels',): 5,\n",
              " ...}"
            ]
          },
          "metadata": {},
          "execution_count": 83
        }
      ]
    },
    {
      "cell_type": "code",
      "source": [
        "for i in creat_n_grams(test_data_replaced, 2).items():\n",
        "  print(i)\n",
        "  break"
      ],
      "metadata": {
        "colab": {
          "base_uri": "https://localhost:8080/"
        },
        "id": "MY475jgiMoaR",
        "outputId": "9b86b4ca-f475-4a05-a04c-a5fcadd31090"
      },
      "execution_count": 88,
      "outputs": [
        {
          "output_type": "stream",
          "name": "stdout",
          "text": [
            "(('<s>', '<s>'), 9593)\n"
          ]
        }
      ]
    },
    {
      "cell_type": "code",
      "source": [
        ""
      ],
      "metadata": {
        "id": "vv-NaQOZMo5S"
      },
      "execution_count": null,
      "outputs": []
    }
  ]
}