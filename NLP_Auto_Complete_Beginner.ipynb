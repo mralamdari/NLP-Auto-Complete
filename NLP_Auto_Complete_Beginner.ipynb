{
  "nbformat": 4,
  "nbformat_minor": 0,
  "metadata": {
    "colab": {
      "name": "NLP-Auto-Complete-Beginner.ipynb",
      "provenance": [],
      "collapsed_sections": [],
      "authorship_tag": "ABX9TyP8HNnM4LNjANXU1iexSN3h",
      "include_colab_link": true
    },
    "kernelspec": {
      "name": "python3",
      "display_name": "Python 3"
    },
    "language_info": {
      "name": "python"
    }
  },
  "cells": [
    {
      "cell_type": "markdown",
      "metadata": {
        "id": "view-in-github",
        "colab_type": "text"
      },
      "source": [
        "<a href=\"https://colab.research.google.com/github/mr-alamdari/NLP-Auto-Complete-Beginner/blob/main/NLP_Auto_Complete_Beginner.ipynb\" target=\"_parent\"><img src=\"https://colab.research.google.com/assets/colab-badge.svg\" alt=\"Open In Colab\"/></a>"
      ]
    },
    {
      "cell_type": "code",
      "execution_count": 2,
      "metadata": {
        "id": "ENDB9Zw7jXXj"
      },
      "outputs": [],
      "source": [
        "import os\n",
        "import re\n",
        "import nltk\n",
        "import numpy as np\n",
        "import pandas as pd"
      ]
    },
    {
      "cell_type": "code",
      "source": [
        "!pip install -q -U trax\n",
        "\n",
        "import trax\n",
        "\n",
        "import trax.fastmath.numpy as np\n",
        "\n",
        "from trax import layers as tl"
      ],
      "metadata": {
        "colab": {
          "base_uri": "https://localhost:8080/"
        },
        "id": "wlB_5UqLk78I",
        "outputId": "36a61bc8-7290-4845-90ea-9b33a9f8f990"
      },
      "execution_count": null,
      "outputs": [
        {
          "output_type": "stream",
          "name": "stdout",
          "text": [
            "\u001b[K     |████████████████████████████████| 637 kB 5.3 MB/s \n",
            "\u001b[K     |████████████████████████████████| 4.9 MB 48.0 MB/s \n",
            "\u001b[K     |████████████████████████████████| 462 kB 54.8 MB/s \n",
            "\u001b[?25h"
          ]
        }
      ]
    },
    {
      "cell_type": "code",
      "source": [
        ""
      ],
      "metadata": {
        "id": "u8a_B5GekswL"
      },
      "execution_count": null,
      "outputs": []
    }
  ]
}