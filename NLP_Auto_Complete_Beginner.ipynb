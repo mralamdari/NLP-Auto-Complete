{
  "nbformat": 4,
  "nbformat_minor": 0,
  "metadata": {
    "colab": {
      "name": "NLP-Auto-Complete-Beginner.ipynb",
      "provenance": [],
      "collapsed_sections": [],
      "authorship_tag": "ABX9TyPLsuoHD1v7uaYiFi3IHtDk",
      "include_colab_link": true
    },
    "kernelspec": {
      "name": "python3",
      "display_name": "Python 3"
    },
    "language_info": {
      "name": "python"
    }
  },
  "cells": [
    {
      "cell_type": "markdown",
      "metadata": {
        "id": "view-in-github",
        "colab_type": "text"
      },
      "source": [
        "<a href=\"https://colab.research.google.com/github/mr-alamdari/NLP-Auto-Complete-Beginner/blob/main/NLP_Auto_Complete_Beginner.ipynb\" target=\"_parent\"><img src=\"https://colab.research.google.com/assets/colab-badge.svg\" alt=\"Open In Colab\"/></a>"
      ]
    },
    {
      "cell_type": "code",
      "execution_count": 1,
      "metadata": {
        "id": "ENDB9Zw7jXXj",
        "colab": {
          "base_uri": "https://localhost:8080/"
        },
        "outputId": "50ff92d9-acea-4398-d892-63964ceecd64"
      },
      "outputs": [
        {
          "output_type": "stream",
          "name": "stdout",
          "text": [
            "[nltk_data] Downloading package punkt to /root/nltk_data...\n",
            "[nltk_data]   Package punkt is already up-to-date!\n"
          ]
        },
        {
          "output_type": "execute_result",
          "data": {
            "text/plain": [
              "True"
            ]
          },
          "metadata": {},
          "execution_count": 1
        }
      ],
      "source": [
        "import os\n",
        "import re\n",
        "import nltk\n",
        "import numpy as np\n",
        "import pandas as pd\n",
        "nltk.download('punkt')"
      ]
    },
    {
      "cell_type": "code",
      "source": [
        "!pip install -q -U trax\n",
        "\n",
        "import trax\n",
        "\n",
        "# import trax.fastmath.numpy as np\n",
        "\n",
        "from trax import layers as tl"
      ],
      "metadata": {
        "id": "wlB_5UqLk78I"
      },
      "execution_count": 2,
      "outputs": []
    },
    {
      "cell_type": "code",
      "source": [
        "!wget https://raw.githubusercontent.com/amanjeetsahu/Natural-Language-Processing-Specialization/master/Natural%20Language%20Processing%20with%20Probabilistic%20Models/Week%203/en_US.twitter.txt"
      ],
      "metadata": {
        "colab": {
          "base_uri": "https://localhost:8080/"
        },
        "id": "u8a_B5GekswL",
        "outputId": "6ddb3514-53c6-4cd5-9a62-0cab27a67c7a"
      },
      "execution_count": 3,
      "outputs": [
        {
          "output_type": "stream",
          "name": "stdout",
          "text": [
            "--2022-04-20 08:09:18--  https://raw.githubusercontent.com/amanjeetsahu/Natural-Language-Processing-Specialization/master/Natural%20Language%20Processing%20with%20Probabilistic%20Models/Week%203/en_US.twitter.txt\n",
            "Resolving raw.githubusercontent.com (raw.githubusercontent.com)... 185.199.109.133, 185.199.110.133, 185.199.108.133, ...\n",
            "Connecting to raw.githubusercontent.com (raw.githubusercontent.com)|185.199.109.133|:443... connected.\n",
            "HTTP request sent, awaiting response... 200 OK\n",
            "Length: 3341555 (3.2M) [text/plain]\n",
            "Saving to: ‘en_US.twitter.txt.3’\n",
            "\n",
            "en_US.twitter.txt.3 100%[===================>]   3.19M  --.-KB/s    in 0.07s   \n",
            "\n",
            "2022-04-20 08:09:18 (47.6 MB/s) - ‘en_US.twitter.txt.3’ saved [3341555/3341555]\n",
            "\n"
          ]
        }
      ]
    },
    {
      "cell_type": "code",
      "source": [
        "with open('en_US.twitter.txt', 'r') as f:\n",
        "  data = f.read()"
      ],
      "metadata": {
        "id": "htKmLHwTlH0p"
      },
      "execution_count": 4,
      "outputs": []
    },
    {
      "cell_type": "code",
      "source": [
        "print(len(data), type(data))"
      ],
      "metadata": {
        "colab": {
          "base_uri": "https://localhost:8080/"
        },
        "id": "1E_qzSoMlfv6",
        "outputId": "08dc5351-a81c-4d57-e05f-736cb756556d"
      },
      "execution_count": 5,
      "outputs": [
        {
          "output_type": "stream",
          "name": "stdout",
          "text": [
            "3335477 <class 'str'>\n"
          ]
        }
      ]
    },
    {
      "cell_type": "code",
      "source": [
        "display(data[0:400])"
      ],
      "metadata": {
        "colab": {
          "base_uri": "https://localhost:8080/",
          "height": 105
        },
        "id": "3x1JiEiklQwC",
        "outputId": "5006ce63-3ba9-4438-c59d-0f0aa49bc4b5"
      },
      "execution_count": 6,
      "outputs": [
        {
          "output_type": "display_data",
          "data": {
            "text/plain": [
              "\"How are you? Btw thanks for the RT. You gonna be in DC anytime soon? Love to see you. Been way, way too long.\\nWhen you meet someone special... you'll know. Your heart will beat more rapidly and you'll smile for no reason.\\nthey've decided its more fun if I don't.\\nSo Tired D; Played Lazer Tag & Ran A LOT D; Ughh Going To Sleep Like In 5 Minutes ;)\\nWords from a complete stranger! Made my birthday eve\""
            ],
            "application/vnd.google.colaboratory.intrinsic+json": {
              "type": "string"
            }
          },
          "metadata": {}
        }
      ]
    },
    {
      "cell_type": "code",
      "source": [
        "display(data[-400:])"
      ],
      "metadata": {
        "colab": {
          "base_uri": "https://localhost:8080/",
          "height": 105
        },
        "id": "pijZ4lAmlXhk",
        "outputId": "33fc942f-e031-4428-c097-791bf0cffe9a"
      },
      "execution_count": 7,
      "outputs": [
        {
          "output_type": "display_data",
          "data": {
            "text/plain": [
              "\"tplace jerks off aristocrats until they finally die in the midst of self-love.\\n's icon is life.\\nwe just had one a few weeks back....hopefully we will be back soon! wish you the best yo\\nColombia is with an 'o'...“: We now ship to 4 countries in South America (fist pump). Please welcome Columbia to the Stunner Family”\\n#GutsiestMovesYouCanMake Giving a cat a bath.\\nCoffee after 5 was a TERRIBLE idea.\\n\""
            ],
            "application/vnd.google.colaboratory.intrinsic+json": {
              "type": "string"
            }
          },
          "metadata": {}
        }
      ]
    },
    {
      "cell_type": "code",
      "source": [
        "def split2Sentences(data):\n",
        "  \n",
        "  sentences = data.split('\\n')\n",
        "  sentences = [s.strip() for s in sentences]\n",
        "  sentences = [s for s in sentences if len(s)>0]\n",
        "  return sentences"
      ],
      "metadata": {
        "id": "IrNi900Slcpd"
      },
      "execution_count": 8,
      "outputs": []
    },
    {
      "cell_type": "code",
      "source": [
        "sentences = split2Sentences(data)\n",
        "sentences[0:10]"
      ],
      "metadata": {
        "colab": {
          "base_uri": "https://localhost:8080/"
        },
        "id": "E8xNBFkFmLwf",
        "outputId": "25bf54f5-0438-460b-edef-090d8fa2d9fc"
      },
      "execution_count": 9,
      "outputs": [
        {
          "output_type": "execute_result",
          "data": {
            "text/plain": [
              "['How are you? Btw thanks for the RT. You gonna be in DC anytime soon? Love to see you. Been way, way too long.',\n",
              " \"When you meet someone special... you'll know. Your heart will beat more rapidly and you'll smile for no reason.\",\n",
              " \"they've decided its more fun if I don't.\",\n",
              " 'So Tired D; Played Lazer Tag & Ran A LOT D; Ughh Going To Sleep Like In 5 Minutes ;)',\n",
              " 'Words from a complete stranger! Made my birthday even better :)',\n",
              " 'First Cubs game ever! Wrigley field is gorgeous. This is perfect. Go Cubs Go!',\n",
              " 'i no! i get another day off from skool due to the wonderful snow (: and THIS wakes me up...damn thing',\n",
              " \"I'm coo... Jus at work hella tired r u ever in cali\",\n",
              " 'The new sundrop commercial ...hehe love at first sight',\n",
              " 'we need to reconnect THIS WEEK']"
            ]
          },
          "metadata": {},
          "execution_count": 9
        }
      ]
    },
    {
      "cell_type": "code",
      "source": [
        "nltk.word_tokenize(sentences[2])"
      ],
      "metadata": {
        "colab": {
          "base_uri": "https://localhost:8080/"
        },
        "id": "yRr3KCGGnhQL",
        "outputId": "c5c24bb6-9e49-417e-f22e-d12caae1ee06"
      },
      "execution_count": 10,
      "outputs": [
        {
          "output_type": "execute_result",
          "data": {
            "text/plain": [
              "['they', \"'ve\", 'decided', 'its', 'more', 'fun', 'if', 'I', 'do', \"n't\", '.']"
            ]
          },
          "metadata": {},
          "execution_count": 10
        }
      ]
    },
    {
      "cell_type": "code",
      "source": [
        "tokenize_sentences =lambda sentences: [nltk.word_tokenize(s.lower()) for s in sentences]"
      ],
      "metadata": {
        "id": "DCAGpCmfmUog"
      },
      "execution_count": 11,
      "outputs": []
    },
    {
      "cell_type": "code",
      "source": [
        "tokenized_sentences = tokenize_sentences(sentences)"
      ],
      "metadata": {
        "id": "uPiGr44inmVZ"
      },
      "execution_count": 12,
      "outputs": []
    },
    {
      "cell_type": "code",
      "source": [
        "tokenized_sentences[0]"
      ],
      "metadata": {
        "colab": {
          "base_uri": "https://localhost:8080/"
        },
        "id": "mSo0vmOb8hpF",
        "outputId": "9e783cab-24a4-4536-ef31-1f8efc3505f5"
      },
      "execution_count": 13,
      "outputs": [
        {
          "output_type": "execute_result",
          "data": {
            "text/plain": [
              "['how',\n",
              " 'are',\n",
              " 'you',\n",
              " '?',\n",
              " 'btw',\n",
              " 'thanks',\n",
              " 'for',\n",
              " 'the',\n",
              " 'rt',\n",
              " '.',\n",
              " 'you',\n",
              " 'gon',\n",
              " 'na',\n",
              " 'be',\n",
              " 'in',\n",
              " 'dc',\n",
              " 'anytime',\n",
              " 'soon',\n",
              " '?',\n",
              " 'love',\n",
              " 'to',\n",
              " 'see',\n",
              " 'you',\n",
              " '.',\n",
              " 'been',\n",
              " 'way',\n",
              " ',',\n",
              " 'way',\n",
              " 'too',\n",
              " 'long',\n",
              " '.']"
            ]
          },
          "metadata": {},
          "execution_count": 13
        }
      ]
    },
    {
      "cell_type": "code",
      "source": [
        "data_tokenizer = lambda data: tokenize_sentences(split2Sentences(data))"
      ],
      "metadata": {
        "id": "I4MZmx8JoQQd"
      },
      "execution_count": 14,
      "outputs": []
    },
    {
      "cell_type": "code",
      "source": [
        "tokenized_sentences = data_tokenizer(data)"
      ],
      "metadata": {
        "id": "0XPyCudFxOTA"
      },
      "execution_count": 15,
      "outputs": []
    },
    {
      "cell_type": "code",
      "source": [
        "np.random.shuffle(tokenized_sentences)\n",
        "train_size = int(len(tokenized_sentences)*0.8)\n",
        "train_data, test_data = tokenized_sentences[:train_size], tokenized_sentences[train_size:]"
      ],
      "metadata": {
        "id": "GkH6RpC1xPbC"
      },
      "execution_count": 16,
      "outputs": []
    },
    {
      "cell_type": "code",
      "source": [
        "print(len(train_data), len(test_data))"
      ],
      "metadata": {
        "colab": {
          "base_uri": "https://localhost:8080/"
        },
        "id": "O5asI24NxpOl",
        "outputId": "b058ccb0-57d6-4363-cb34-4bbd93a74484"
      },
      "execution_count": 17,
      "outputs": [
        {
          "output_type": "stream",
          "name": "stdout",
          "text": [
            "38368 9593\n"
          ]
        }
      ]
    },
    {
      "cell_type": "code",
      "source": [
        "def word_counter(tokenized_sentences):\n",
        "  word_dic = {}\n",
        "  for sentence in tokenized_sentences:\n",
        "    for token in sentence:\n",
        "      if token not in word_dic:\n",
        "        word_dic[token] = 1\n",
        "      else:\n",
        "        word_dic[token] += 1\n",
        "  return word_dic\n",
        "  # return collections.Counter(tokenized_sentences)"
      ],
      "metadata": {
        "id": "rf1wMIv3xq88"
      },
      "execution_count": 18,
      "outputs": []
    },
    {
      "cell_type": "code",
      "source": [
        "word_c = word_counter(tokenized_sentences)\n",
        "\n",
        "for i, w in enumerate(word_c):\n",
        "  if i == 20:\n",
        "    break\n",
        "\n",
        "  print(w)"
      ],
      "metadata": {
        "colab": {
          "base_uri": "https://localhost:8080/"
        },
        "id": "72STa6R7yo2l",
        "outputId": "38334520-11e9-4bd4-869f-3c1a8de940d9"
      },
      "execution_count": 19,
      "outputs": [
        {
          "output_type": "stream",
          "name": "stdout",
          "text": [
            "thank\n",
            "you\n",
            "for\n",
            "the\n",
            "best\n",
            "night\n",
            "ever\n",
            "with\n",
            "word\n",
            "is\n",
            "chris\n",
            "hardwick\n",
            "may\n",
            "be\n",
            "looking\n",
            "at\n",
            "a\n",
            "guest\n",
            "set\n",
            "tonight\n"
          ]
        }
      ]
    },
    {
      "cell_type": "code",
      "source": [
        "def words_with_nplus_frequncy(tokenize_sentences, count_threshold):\n",
        "  closed_vocab = []\n",
        "  word_count = word_counter(tokenized_sentences)\n",
        "  for k, v in word_count.items():\n",
        "    if v >= count_threshold:\n",
        "      closed_vocab.append(k)\n",
        "  return closed_vocab"
      ],
      "metadata": {
        "id": "U4O96FuUysCF"
      },
      "execution_count": 20,
      "outputs": []
    },
    {
      "cell_type": "code",
      "source": [
        "closed_vocab = words_with_nplus_frequncy(tokenized_sentences,2)"
      ],
      "metadata": {
        "id": "jS-dhelOywvy"
      },
      "execution_count": 21,
      "outputs": []
    },
    {
      "cell_type": "code",
      "source": [
        "closed_vocab[: 20]"
      ],
      "metadata": {
        "colab": {
          "base_uri": "https://localhost:8080/"
        },
        "id": "0TKo-pP10xMs",
        "outputId": "4910c6ec-c36a-471a-e56c-c8845ebcca06"
      },
      "execution_count": 22,
      "outputs": [
        {
          "output_type": "execute_result",
          "data": {
            "text/plain": [
              "['thank',\n",
              " 'you',\n",
              " 'for',\n",
              " 'the',\n",
              " 'best',\n",
              " 'night',\n",
              " 'ever',\n",
              " 'with',\n",
              " 'word',\n",
              " 'is',\n",
              " 'chris',\n",
              " 'may',\n",
              " 'be',\n",
              " 'looking',\n",
              " 'at',\n",
              " 'a',\n",
              " 'guest',\n",
              " 'set',\n",
              " 'tonight',\n",
              " 'and']"
            ]
          },
          "metadata": {},
          "execution_count": 22
        }
      ]
    },
    {
      "cell_type": "code",
      "source": [
        "def oov2Unk(tokenized_data, vocab, unknown_token='<unk>'):\n",
        "  vocab = set(vocab)\n",
        "\n",
        "  replaced_tokenized_sentences = []\n",
        "  for i, sentence in enumerate(tokenized_data):\n",
        "\n",
        "    replace_sentences = []\n",
        "    for token in sentence:\n",
        "\n",
        "      temp_token = token if token in vocab else unknown_token\n",
        "      replace_sentences.append(temp_token)\n",
        "    replaced_tokenized_sentences.append(replace_sentences)\n",
        "  return replaced_tokenized_sentences"
      ],
      "metadata": {
        "id": "utdnWExn1ZnC"
      },
      "execution_count": 64,
      "outputs": []
    },
    {
      "cell_type": "code",
      "source": [
        "def preprocess_data(train_data, test_data, count_threshol=2):\n",
        "  \n",
        "  vocab = words_with_nplus_frequncy(train_data, count_threshol)\n",
        "  train_data_replaced = oov2Unk(train_data, vocab)\n",
        "  test_data_replaced = oov2Unk(test_data, vocab)\n",
        "  return train_data_replaced, test_data_replaced, vocab"
      ],
      "metadata": {
        "id": "HPIU4FiZ7xa6"
      },
      "execution_count": 65,
      "outputs": []
    },
    {
      "cell_type": "code",
      "source": [
        "train_data_replaced, test_data_replaced, vocab = preprocess_data(train_data, test_data)"
      ],
      "metadata": {
        "id": "Zmq3O4i63wII"
      },
      "execution_count": 66,
      "outputs": []
    },
    {
      "cell_type": "code",
      "source": [
        "train_data_replaced[20]"
      ],
      "metadata": {
        "colab": {
          "base_uri": "https://localhost:8080/"
        },
        "id": "n7lekEL_EP1v",
        "outputId": "ceb7ac98-dbcc-42d7-b8c1-1029b614eaee"
      },
      "execution_count": 70,
      "outputs": [
        {
          "output_type": "execute_result",
          "data": {
            "text/plain": [
              "['been',\n",
              " 'reading',\n",
              " 'your',\n",
              " 'tweets',\n",
              " 'and',\n",
              " 'i',\n",
              " 'like',\n",
              " 'your',\n",
              " 'style',\n",
              " '.',\n",
              " 'thanks',\n",
              " 'for',\n",
              " 'being',\n",
              " 'one',\n",
              " 'of',\n",
              " 'the',\n",
              " 'only',\n",
              " 'followers',\n",
              " 'to',\n",
              " 'not',\n",
              " 'use',\n",
              " 'an',\n",
              " '<unk>',\n",
              " '!']"
            ]
          },
          "metadata": {},
          "execution_count": 70
        }
      ]
    },
    {
      "cell_type": "code",
      "source": [
        "test_data_replaced[20]"
      ],
      "metadata": {
        "colab": {
          "base_uri": "https://localhost:8080/"
        },
        "id": "PGruuQz8Ebkv",
        "outputId": "428c173d-e685-45d3-b33d-cc90cb095bcd"
      },
      "execution_count": 71,
      "outputs": [
        {
          "output_type": "execute_result",
          "data": {
            "text/plain": [
              "['if',\n",
              " 'for',\n",
              " 'some',\n",
              " 'reason',\n",
              " 'our',\n",
              " '<unk>',\n",
              " 'link',\n",
              " 'dosent',\n",
              " 'work',\n",
              " 'for',\n",
              " 'you',\n",
              " ',',\n",
              " 'you',\n",
              " 'can',\n",
              " 'download',\n",
              " 'our',\n",
              " 'demos',\n",
              " 'on',\n",
              " 'the',\n",
              " '``',\n",
              " '<unk>',\n",
              " \"''\",\n",
              " 'tab',\n",
              " 'on',\n",
              " 'our',\n",
              " 'page',\n",
              " '!']"
            ]
          },
          "metadata": {},
          "execution_count": 71
        }
      ]
    },
    {
      "cell_type": "code",
      "source": [
        ""
      ],
      "metadata": {
        "id": "i9tL8e9cEg-7"
      },
      "execution_count": null,
      "outputs": []
    }
  ]
}